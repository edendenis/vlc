{
 "cells": [
  {
   "cell_type": "markdown",
   "metadata": {},
   "source": [
    "# Como configurar/instalar/usar o `vlc` no `Linux Ubuntu`\n",
    "\n",
    "## Resumo\n",
    "\n",
    "Neste documento estão contidos os principais comandos e configurações para configurar/instalar/usar o `vlc` no `Linux Ubuntu`.\n",
    "\n",
    "## _Abstract_\n",
    "\n",
    "_This document contains the main commands and settings to configure/install/use the `vlc` on `Linux Ubuntu`._"
   ]
  },
  {
   "cell_type": "markdown",
   "metadata": {},
   "source": [
    "## Descrição [1][2]\n",
    "\n",
    "### `vlc`\n",
    "\n",
    "O `vlc`, ou `VideoLAN Client`, é um popular reprodutor de mídia de código aberto que é amplamente utilizado para reproduzir uma variedade de formatos de áudio e vídeo em várias plataformas, incluindo `Windows`, `macOS`, `Linux`, `Android` e `iOS`. O `vlc` é conhecido por sua capacidade de lidar com uma ampla gama de tipos de arquivo, tornando-o uma escolha versátil para assistir a vídeos e ouvir música. Além disso, ele oferece recursos avançados, como suporte a legendas, streaming de mídia, ajustes de áudio e vídeo em tempo real e a capacidade de reproduzir mídia de discos ópticos, dispositivos de armazenamento externo e streaming online. O VLC também é apreciado por sua interface de usuário simples e intuitiva, além de ser de código aberto, o que significa que sua comunidade de desenvolvedores pode contribuir para aprimorar e expandir suas funcionalidades. É uma escolha popular para aqueles que buscam uma solução de reprodução de mídia confiável e versátil.\n"
   ]
  },
  {
   "cell_type": "markdown",
   "metadata": {},
   "source": [
    "## 1. Configurar/Instalar/usar o `vlc` no `Linux Ubuntu` [1]\n",
    "\n",
    "Para instalar o `vlc` no `Linux Ubuntu`, você pode usar o gerenciador de pacotes `snap`. Siga os passos abaixo:\n",
    "\n",
    "1. Abra o `Terminal Emulator`. Você pode fazer isso pressionando: `Ctrl + Alt + T`"
   ]
  },
  {
   "cell_type": "markdown",
   "metadata": {},
   "source": [
    "2. Certifique-se de que seu sistema esteja limpo e atualizado.\n",
    "\n",
    "    2.1 Limpar o `cache` do gerenciador de pacotes `apt`. Especificamente, ele remove todos os arquivos de pacotes (`.deb`) baixados pelo `apt` e armazenados em `/var/cache/apt/archives/`. Digite o seguinte comando: `sudo apt clean` \n",
    "    \n",
    "    2.2 Remover pacotes `.deb` antigos ou duplicados do cache local. É útil para liberar espaço, pois remove apenas os pacotes que não podem mais ser baixados (ou seja, versões antigas de pacotes que foram atualizados). Digite o seguinte comando: `sudo apt autoclean`\n",
    "\n",
    "    2.3 Remover pacotes que foram automaticamente instalados para satisfazer as dependências de outros pacotes e que não são mais necessários. Digite o seguinte comando: `sudo apt autoremove -y`\n",
    "\n",
    "    2.4 Buscar as atualizações disponíveis para os pacotes que estão instalados em seu sistema. Digite o seguinte comando e pressione `Enter`: `sudo apt update`\n",
    "\n",
    "    2.5 **Corrigir pacotes quebrados**: Isso atualizará a lista de pacotes disponíveis e tentará corrigir pacotes quebrados ou com dependências ausentes: `sudo apt --fix-broken install`\n",
    "\n",
    "    2.6 Limpar o `cache` do gerenciador de pacotes `apt`. Especificamente, ele remove todos os arquivos de pacotes (`.deb`) baixados pelo `apt` e armazenados em `/var/cache/apt/archives/`. Digite o seguinte comando: `sudo apt clean` \n",
    "    \n",
    "    2.7 Para ver a lista de pacotes a serem atualizados, digite o seguinte comando e pressione `Enter`:  `sudo apt list --upgradable`\n",
    "\n",
    "    2.8 Realmente atualizar os pacotes instalados para as suas versões mais recentes, com base na última vez que você executou `sudo apt update`. Digite o seguinte comando e pressione `Enter`: `sudo apt full-upgrade -y`\n",
    "   "
   ]
  },
  {
   "cell_type": "markdown",
   "metadata": {
    "vscode": {
     "languageId": "plaintext"
    }
   },
   "source": [
    "3. **Instalar o `VLC`:** Após a atualização, instale o `VLC` usando o seguinte comando: `sudo snap install vlc -y`\n",
    "\n",
    "    Esse comando instalará a versão mais recente do `VLC` disponível nos repositórios do `Linux Ubuntu`.\n",
    "\n",
    "4. **Executar o `VLC`:** Uma vez instalado, você pode iniciar o `VLC` a partir do terminal digitando `vlc` ou encontrá-lo no menu de aplicações.\n",
    "\n",
    "**Notas Adicionais:**\n",
    "\n",
    "- **Permissões:** Como o `Linux Ubuntu` é frequentemente usado com privilégios de superusuário, tenha cuidado ao instalar _software_ e ao conceder permissões.\n",
    "\n",
    "- **Repositórios de Software:** Se você enfrentar problemas ao instalar o `VLC`, certifique-se de que os repositórios de software do `Linux Ubuntu` estejam configurados corretamente.\n",
    "\n",
    "- **Dependências:** O gerenciador de pacotes `apt` geralmente resolve as dependências automaticamente, mas esteja atento a mensagens de erro relacionadas a dependências faltantes.\n",
    "\n",
    "Se houver algum erro durante a instalação, a mensagem de erro específica pode ajudar a identificar a solução."
   ]
  },
  {
   "cell_type": "markdown",
   "metadata": {},
   "source": [
    "### 1.1 Código completo para configurar/instalar/usar\n",
    "\n",
    "Para configuração/instalar/usar o `vlc` no `Linux Ubuntu` sem precisar digitar linha por linha, você pode seguir estas etapas:\n",
    "\n",
    "1. Abra o `Terminal Emulator`. Você pode fazer isso pressionando: `Ctrl + Alt + T`\n",
    "\n",
    "2. Digite o seguinte comando e pressione `Enter`:\n",
    "\n",
    "    ```\n",
    "    sudo apt clean\n",
    "    sudo apt autoclean\n",
    "    sudo apt autoremove -y\n",
    "    sudo apt update\n",
    "    sudo apt --fix-broken install\n",
    "    sudo apt clean\n",
    "    sudo apt list --upgradable\n",
    "    sudo apt full-upgrade -y\n",
    "    sudo snap install vlc\n",
    "    vlc\n",
    "    ```"
   ]
  },
  {
   "cell_type": "markdown",
   "metadata": {},
   "source": [
    "## 2. Criar um atalho manualmente\n",
    "\n",
    "1. **Criar um Atalho Manualmente:** Se não houver uma entrada para o `VLC`, você pode criar uma manualmente. Use um editor de texto para criar um arquivo chamado `vlc.desktop` em `~/.local/share/applications/` com o seguinte conteúdo:\n",
    "\n",
    "    ```\n",
    "    [Desktop Entry]\n",
    "    Name=VLC Media Player\n",
    "    Comment=Play your media\n",
    "    Exec=vlc\n",
    "    Icon=vlc\n",
    "    Terminal=false\n",
    "    Type=Application\n",
    "    Categories=AudioVideo;Player;Recorder;\n",
    "    ```\n",
    "\n",
    "2. **Atualizar o Cache do Menu de Aplicações:** Às vezes, é necessário atualizar o `cache` do menu de aplicações para que as novas entradas apareçam. Isso pode ser feito com: `sudo update-desktop-database`\n",
    "\n",
    "Se nenhuma dessas soluções funcionar, pode ser necessário investigar questões mais específicas do seu ambiente de desktop ou configurações do `Linux Ubuntu`."
   ]
  },
  {
   "cell_type": "markdown",
   "metadata": {
    "vscode": {
     "languageId": "plaintext"
    }
   },
   "source": [
    "## Referências\n",
    "\n",
    "[1] OPENAI. ***Instalar vlc no linux ubuntu.*** Disponível em: <https://chat.openai.com/c/09d564cf-b2d8-49a1-a461-b14a4680c49a> (texto adaptado). ChatGPT. Acessado em: 11/12/2023 12:11.\n",
    "\n",
    "[2] OPENAI. ***Vs code: editor popular.*** Disponível em: <https://chat.openai.com/c/b640a25d-f8e3-4922-8a3b-ed74a2657e42> (texto adaptado). ChatGPT. Acessado em: 11/12/2023 12:11.\n"
   ]
  }
 ],
 "metadata": {
  "kernelspec": {
   "display_name": "Python 3",
   "language": "python",
   "name": "python3"
  },
  "language_info": {
   "codemirror_mode": {
    "name": "ipython",
    "version": 3
   },
   "file_extension": ".py",
   "mimetype": "text/x-python",
   "name": "python",
   "nbconvert_exporter": "python",
   "pygments_lexer": "ipython3",
   "version": "3.8.10"
  },
  "orig_nbformat": 4
 },
 "nbformat": 4,
 "nbformat_minor": 2
}
